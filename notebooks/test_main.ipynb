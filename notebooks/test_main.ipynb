{
  "metadata": {
    "kernelspec": {
      "name": "python",
      "display_name": "Python (Pyodide)",
      "language": "python"
    },
    "language_info": {
      "codemirror_mode": {
        "name": "python",
        "version": 3
      },
      "file_extension": ".py",
      "mimetype": "text/x-python",
      "name": "python",
      "nbconvert_exporter": "python",
      "pygments_lexer": "ipython3",
      "version": "3.8"
    }
  },
  "nbformat_minor": 4,
  "nbformat": 4,
  "cells": [
    {
      "cell_type": "code",
      "source": "from cognite.client import CogniteClient\nfrom retrieve_data import RetrieveData\nfrom analyze_data import AnalyzeData\nfrom feature_engineer import FeatureEngineer\nfrom est_ttf import EstTTF\nimport pandas as pd\n\n# Instantiate Cognite SDK client:\nclient = CogniteClient()",
      "metadata": {
        "trusted": true,
        "scrolled": true
      },
      "outputs": [],
      "execution_count": 1
    },
    {
      "cell_type": "code",
      "source": "#1. Instantiate a DataRetriever Class.\nretriever = RetrieveData(client)",
      "metadata": {
        "trusted": true
      },
      "outputs": [],
      "execution_count": 2
    },
    {
      "cell_type": "code",
      "source": "#2. Assign the desired pi tag to a variable\npitag1 = \"KASAWARI_PI_PC.SKA.KSCPP.DCS.SW.22PIA-0028.PV\"\nstart_time = \"365d-ago\"\nend_time = \"now\"\nagg = \"interpolation\"\ninterval = \"1m\"\n\n\n",
      "metadata": {
        "trusted": true
      },
      "outputs": [],
      "execution_count": 3
    },
    {
      "cell_type": "code",
      "source": "#3. Call out retrieve_data method from the initialized class\ndf1 = retriever.retrieve_agg(ex_id=pitag1, start_time_str=start_time, end_time_str=end_time, agg=agg, interval=interval)",
      "metadata": {
        "trusted": true
      },
      "outputs": [],
      "execution_count": 4
    },
    {
      "cell_type": "code",
      "source": "#4. display top 5 of the dataframe and info\ndf1.head()",
      "metadata": {
        "trusted": true
      },
      "outputs": [
        {
          "execution_count": 5,
          "output_type": "execute_result",
          "data": {
            "text/plain": "            Timestamp      value\n0 2024-07-31 17:06:00  79.193684\n1 2024-07-31 17:07:00  79.128995\n2 2024-07-31 17:09:00  78.960214\n3 2024-07-31 17:11:00  78.808014\n4 2024-07-31 17:12:00  78.723471",
            "text/html": "<div>\n<style scoped>\n    .dataframe tbody tr th:only-of-type {\n        vertical-align: middle;\n    }\n\n    .dataframe tbody tr th {\n        vertical-align: top;\n    }\n\n    .dataframe thead th {\n        text-align: right;\n    }\n</style>\n<table border=\"1\" class=\"dataframe\">\n  <thead>\n    <tr style=\"text-align: right;\">\n      <th></th>\n      <th>Timestamp</th>\n      <th>value</th>\n    </tr>\n  </thead>\n  <tbody>\n    <tr>\n      <th>0</th>\n      <td>2024-07-31 17:06:00</td>\n      <td>79.193684</td>\n    </tr>\n    <tr>\n      <th>1</th>\n      <td>2024-07-31 17:07:00</td>\n      <td>79.128995</td>\n    </tr>\n    <tr>\n      <th>2</th>\n      <td>2024-07-31 17:09:00</td>\n      <td>78.960214</td>\n    </tr>\n    <tr>\n      <th>3</th>\n      <td>2024-07-31 17:11:00</td>\n      <td>78.808014</td>\n    </tr>\n    <tr>\n      <th>4</th>\n      <td>2024-07-31 17:12:00</td>\n      <td>78.723471</td>\n    </tr>\n  </tbody>\n</table>\n</div>"
          },
          "metadata": {}
        }
      ],
      "execution_count": 5
    },
    {
      "cell_type": "code",
      "source": "df1.describe()",
      "metadata": {
        "trusted": true
      },
      "outputs": [
        {
          "execution_count": 6,
          "output_type": "execute_result",
          "data": {
            "text/plain": "                           Timestamp          value\ncount                         109951  109951.000000\nmean   2024-11-29 08:19:53.459268352      71.625804\nmin              2024-07-31 17:06:00      -0.665096\n25%              2024-09-29 15:26:30      73.042881\n50%              2024-11-19 01:21:00      74.407090\n75%              2025-01-24 14:29:30      75.614303\nmax              2025-06-02 08:54:00      89.223432\nstd                              NaN      13.869882",
            "text/html": "<div>\n<style scoped>\n    .dataframe tbody tr th:only-of-type {\n        vertical-align: middle;\n    }\n\n    .dataframe tbody tr th {\n        vertical-align: top;\n    }\n\n    .dataframe thead th {\n        text-align: right;\n    }\n</style>\n<table border=\"1\" class=\"dataframe\">\n  <thead>\n    <tr style=\"text-align: right;\">\n      <th></th>\n      <th>Timestamp</th>\n      <th>value</th>\n    </tr>\n  </thead>\n  <tbody>\n    <tr>\n      <th>count</th>\n      <td>109951</td>\n      <td>109951.000000</td>\n    </tr>\n    <tr>\n      <th>mean</th>\n      <td>2024-11-29 08:19:53.459268352</td>\n      <td>71.625804</td>\n    </tr>\n    <tr>\n      <th>min</th>\n      <td>2024-07-31 17:06:00</td>\n      <td>-0.665096</td>\n    </tr>\n    <tr>\n      <th>25%</th>\n      <td>2024-09-29 15:26:30</td>\n      <td>73.042881</td>\n    </tr>\n    <tr>\n      <th>50%</th>\n      <td>2024-11-19 01:21:00</td>\n      <td>74.407090</td>\n    </tr>\n    <tr>\n      <th>75%</th>\n      <td>2025-01-24 14:29:30</td>\n      <td>75.614303</td>\n    </tr>\n    <tr>\n      <th>max</th>\n      <td>2025-06-02 08:54:00</td>\n      <td>89.223432</td>\n    </tr>\n    <tr>\n      <th>std</th>\n      <td>NaN</td>\n      <td>13.869882</td>\n    </tr>\n  </tbody>\n</table>\n</div>"
          },
          "metadata": {}
        }
      ],
      "execution_count": 6
    },
    {
      "cell_type": "code",
      "source": "df1.info()",
      "metadata": {
        "trusted": true
      },
      "outputs": [
        {
          "name": "stdout",
          "text": "<class 'pandas.core.frame.DataFrame'>\nRangeIndex: 109951 entries, 0 to 109950\nData columns (total 2 columns):\n #   Column     Non-Null Count   Dtype         \n---  ------     --------------   -----         \n 0   Timestamp  109951 non-null  datetime64[ns]\n 1   value      109951 non-null  float64       \ndtypes: datetime64[ns](1), float64(1)\nmemory usage: 1.7 MB\n",
          "output_type": "stream"
        }
      ],
      "execution_count": 7
    },
    {
      "cell_type": "code",
      "source": "#Plot boxplot to identify outliers\nanalyzer =AnalyzeData(df1)\n\n#boxplot\nanalyzer.box_plot()",
      "metadata": {
        "trusted": true
      },
      "outputs": [
        {
          "output_type": "display_data",
          "data": {
            "text/plain": "<Figure size 1000x200 with 1 Axes>",
            "image/png": "[encoded data removed]"
          },
          "metadata": {}
        }
      ],
      "execution_count": 8
    },
    {
      "cell_type": "code",
      "source": "df1[\"value\"].skew()",
      "metadata": {
        "trusted": true
      },
      "outputs": [
        {
          "execution_count": 9,
          "output_type": "execute_result",
          "data": {
            "text/plain": "-4.66261248560258"
          },
          "metadata": {}
        }
      ],
      "execution_count": 9
    },
    {
      "cell_type": "code",
      "source": "#Remove Outliers\nanalyzer.remove_outliers()",
      "metadata": {
        "trusted": true
      },
      "outputs": [
        {
          "name": "stdout",
          "text": "Lower bound: 69.19\nUpper bound: 79.47\nRemoved 8703 outliers.\n",
          "output_type": "stream"
        }
      ],
      "execution_count": 10
    },
    {
      "cell_type": "code",
      "source": "analyzer.df.describe()",
      "metadata": {
        "trusted": true
      },
      "outputs": [
        {
          "execution_count": 11,
          "output_type": "execute_result",
          "data": {
            "text/plain": "               value\ncount  101248.000000\nmean       74.429675\nstd         1.746424\nmin        69.189130\n25%        73.310726\n50%        74.506185\n75%        75.622918\nmax        79.470253",
            "text/html": "<div>\n<style scoped>\n    .dataframe tbody tr th:only-of-type {\n        vertical-align: middle;\n    }\n\n    .dataframe tbody tr th {\n        vertical-align: top;\n    }\n\n    .dataframe thead th {\n        text-align: right;\n    }\n</style>\n<table border=\"1\" class=\"dataframe\">\n  <thead>\n    <tr style=\"text-align: right;\">\n      <th></th>\n      <th>value</th>\n    </tr>\n  </thead>\n  <tbody>\n    <tr>\n      <th>count</th>\n      <td>101248.000000</td>\n    </tr>\n    <tr>\n      <th>mean</th>\n      <td>74.429675</td>\n    </tr>\n    <tr>\n      <th>std</th>\n      <td>1.746424</td>\n    </tr>\n    <tr>\n      <th>min</th>\n      <td>69.189130</td>\n    </tr>\n    <tr>\n      <th>25%</th>\n      <td>73.310726</td>\n    </tr>\n    <tr>\n      <th>50%</th>\n      <td>74.506185</td>\n    </tr>\n    <tr>\n      <th>75%</th>\n      <td>75.622918</td>\n    </tr>\n    <tr>\n      <th>max</th>\n      <td>79.470253</td>\n    </tr>\n  </tbody>\n</table>\n</div>"
          },
          "metadata": {}
        }
      ],
      "execution_count": 11
    },
    {
      "cell_type": "code",
      "source": "#Feature engineer statistical columns\ncleaned_df = analyzer.df\nfe = FeatureEngineer(cleaned_df)",
      "metadata": {
        "trusted": true
      },
      "outputs": [],
      "execution_count": 12
    },
    {
      "cell_type": "code",
      "source": "df = fe.generate_all_features()",
      "metadata": {
        "trusted": true
      },
      "outputs": [],
      "execution_count": 13
    },
    {
      "cell_type": "code",
      "source": "df = fe.assign_status(low_alarm = 65.8, high_alarm=86)",
      "metadata": {
        "trusted": true
      },
      "outputs": [],
      "execution_count": 14
    },
    {
      "cell_type": "code",
      "source": "df.head()",
      "metadata": {
        "trusted": true
      },
      "outputs": [
        {
          "execution_count": 15,
          "output_type": "execute_result",
          "data": {
            "text/plain": "                         value  deviation_from_mean  abs_deviation  \\\nTimestamp                                                            \n2024-07-31 17:06:00  79.193684             4.764008       4.764008   \n2024-07-31 17:07:00  79.128995             4.699320       4.699320   \n2024-07-31 17:09:00  78.960214             4.530539       4.530539   \n2024-07-31 17:11:00  78.808014             4.378339       4.378339   \n2024-07-31 17:12:00  78.723471             4.293795       4.293795   \n\n                     deviation_mad  abs_dev_mad  sigma_level     slope  \\\nTimestamp                                                                \n2024-07-31 17:06:00       4.687498     4.687498     2.727864       NaN   \n2024-07-31 17:07:00       4.622810     4.622810     2.690824 -0.064689   \n2024-07-31 17:09:00       4.454029     4.454029     2.594180 -0.168781   \n2024-07-31 17:11:00       4.301829     4.301829     2.507030 -0.152200   \n2024-07-31 17:12:00       4.217285     4.217285     2.458621 -0.084543   \n\n                     rolling_mean_5  rolling_std_5  rolling_mad_5  \\\nTimestamp                                                           \n2024-07-31 17:06:00             NaN            NaN            NaN   \n2024-07-31 17:07:00             NaN            NaN            NaN   \n2024-07-31 17:09:00             NaN            NaN            NaN   \n2024-07-31 17:11:00             NaN            NaN            NaN   \n2024-07-31 17:12:00       78.962875       0.201353       0.168781   \n\n                     rolling_slope_5       lag1  lag_diff   status  \nTimestamp                                                           \n2024-07-31 17:06:00              NaN        NaN       NaN  Anomaly  \n2024-07-31 17:07:00              NaN  79.193684 -0.064689  Anomaly  \n2024-07-31 17:09:00              NaN  79.128995 -0.168781  Anomaly  \n2024-07-31 17:11:00              NaN  78.960214 -0.152200  Anomaly  \n2024-07-31 17:12:00        -0.126141  78.808014 -0.084543  Anomaly  ",
            "text/html": "<div>\n<style scoped>\n    .dataframe tbody tr th:only-of-type {\n        vertical-align: middle;\n    }\n\n    .dataframe tbody tr th {\n        vertical-align: top;\n    }\n\n    .dataframe thead th {\n        text-align: right;\n    }\n</style>\n<table border=\"1\" class=\"dataframe\">\n  <thead>\n    <tr style=\"text-align: right;\">\n      <th></th>\n      <th>value</th>\n      <th>deviation_from_mean</th>\n      <th>abs_deviation</th>\n      <th>deviation_mad</th>\n      <th>abs_dev_mad</th>\n      <th>sigma_level</th>\n      <th>slope</th>\n      <th>rolling_mean_5</th>\n      <th>rolling_std_5</th>\n      <th>rolling_mad_5</th>\n      <th>rolling_slope_5</th>\n      <th>lag1</th>\n      <th>lag_diff</th>\n      <th>status</th>\n    </tr>\n    <tr>\n      <th>Timestamp</th>\n      <th></th>\n      <th></th>\n      <th></th>\n      <th></th>\n      <th></th>\n      <th></th>\n      <th></th>\n      <th></th>\n      <th></th>\n      <th></th>\n      <th></th>\n      <th></th>\n      <th></th>\n      <th></th>\n    </tr>\n  </thead>\n  <tbody>\n    <tr>\n      <th>2024-07-31 17:06:00</th>\n      <td>79.193684</td>\n      <td>4.764008</td>\n      <td>4.764008</td>\n      <td>4.687498</td>\n      <td>4.687498</td>\n      <td>2.727864</td>\n      <td>NaN</td>\n      <td>NaN</td>\n      <td>NaN</td>\n      <td>NaN</td>\n      <td>NaN</td>\n      <td>NaN</td>\n      <td>NaN</td>\n      <td>Anomaly</td>\n    </tr>\n    <tr>\n      <th>2024-07-31 17:07:00</th>\n      <td>79.128995</td>\n      <td>4.699320</td>\n      <td>4.699320</td>\n      <td>4.622810</td>\n      <td>4.622810</td>\n      <td>2.690824</td>\n      <td>-0.064689</td>\n      <td>NaN</td>\n      <td>NaN</td>\n      <td>NaN</td>\n      <td>NaN</td>\n      <td>79.193684</td>\n      <td>-0.064689</td>\n      <td>Anomaly</td>\n    </tr>\n    <tr>\n      <th>2024-07-31 17:09:00</th>\n      <td>78.960214</td>\n      <td>4.530539</td>\n      <td>4.530539</td>\n      <td>4.454029</td>\n      <td>4.454029</td>\n      <td>2.594180</td>\n      <td>-0.168781</td>\n      <td>NaN</td>\n      <td>NaN</td>\n      <td>NaN</td>\n      <td>NaN</td>\n      <td>79.128995</td>\n      <td>-0.168781</td>\n      <td>Anomaly</td>\n    </tr>\n    <tr>\n      <th>2024-07-31 17:11:00</th>\n      <td>78.808014</td>\n      <td>4.378339</td>\n      <td>4.378339</td>\n      <td>4.301829</td>\n      <td>4.301829</td>\n      <td>2.507030</td>\n      <td>-0.152200</td>\n      <td>NaN</td>\n      <td>NaN</td>\n      <td>NaN</td>\n      <td>NaN</td>\n      <td>78.960214</td>\n      <td>-0.152200</td>\n      <td>Anomaly</td>\n    </tr>\n    <tr>\n      <th>2024-07-31 17:12:00</th>\n      <td>78.723471</td>\n      <td>4.293795</td>\n      <td>4.293795</td>\n      <td>4.217285</td>\n      <td>4.217285</td>\n      <td>2.458621</td>\n      <td>-0.084543</td>\n      <td>78.962875</td>\n      <td>0.201353</td>\n      <td>0.168781</td>\n      <td>-0.126141</td>\n      <td>78.808014</td>\n      <td>-0.084543</td>\n      <td>Anomaly</td>\n    </tr>\n  </tbody>\n</table>\n</div>"
          },
          "metadata": {}
        }
      ],
      "execution_count": 15
    },
    {
      "cell_type": "code",
      "source": "df.describe()",
      "metadata": {
        "trusted": true
      },
      "outputs": [
        {
          "execution_count": 16,
          "output_type": "execute_result",
          "data": {
            "text/plain": "               value  deviation_from_mean  abs_deviation  deviation_mad  \\\ncount  101248.000000         1.012480e+05  101248.000000  101248.000000   \nmean       74.429675        -7.671346e-15       1.383712      -0.076510   \nstd         1.746424         1.746424e+00       1.065513       1.746424   \nmin        69.189130        -5.240545e+00       0.000028      -5.317055   \n25%        73.310726        -1.118950e+00       0.545664      -1.195460   \n50%        74.506185         7.651020e-02       1.155525       0.000000   \n75%        75.622918         1.193243e+00       1.968425       1.116733   \nmax        79.470253         5.040578e+00       5.240545       4.964067   \n\n         abs_dev_mad    sigma_level          slope  rolling_mean_5  \\\ncount  101248.000000  101248.000000  101247.000000   101244.000000   \nmean        1.382354       0.792312      -0.000019       74.429523   \nstd         1.070014       0.610111       0.518211        1.704497   \nmin         0.000021       0.000016     -10.129916       69.273186   \n25%         0.541772       0.312446      -0.126814       73.337939   \n50%         1.153062       0.661652       0.062412       74.517033   \n75%         1.961146       1.127117       0.146634       75.604612   \nmax         5.317055       3.000728       8.417102       79.401439   \n\n       rolling_std_5  rolling_mad_5  rolling_slope_5           lag1  \\\ncount  101244.000000  101244.000000    101244.000000  101247.000000   \nmean        0.302145       0.161220        -0.000014      74.429648   \nstd         0.298246       0.141634         0.184570       1.746411   \nmin         0.003470       0.000358        -2.608360      69.189130   \n25%         0.160194       0.090217        -0.106246      73.310711   \n50%         0.216907       0.129603         0.033477      74.506165   \n75%         0.361194       0.189434         0.113558      75.622902   \nmax         5.022090       4.379968         2.781938      79.470253   \n\n            lag_diff  \ncount  101247.000000  \nmean       -0.000019  \nstd         0.518211  \nmin       -10.129916  \n25%        -0.126814  \n50%         0.062412  \n75%         0.146634  \nmax         8.417102  ",
            "text/html": "<div>\n<style scoped>\n    .dataframe tbody tr th:only-of-type {\n        vertical-align: middle;\n    }\n\n    .dataframe tbody tr th {\n        vertical-align: top;\n    }\n\n    .dataframe thead th {\n        text-align: right;\n    }\n</style>\n<table border=\"1\" class=\"dataframe\">\n  <thead>\n    <tr style=\"text-align: right;\">\n      <th></th>\n      <th>value</th>\n      <th>deviation_from_mean</th>\n      <th>abs_deviation</th>\n      <th>deviation_mad</th>\n      <th>abs_dev_mad</th>\n      <th>sigma_level</th>\n      <th>slope</th>\n      <th>rolling_mean_5</th>\n      <th>rolling_std_5</th>\n      <th>rolling_mad_5</th>\n      <th>rolling_slope_5</th>\n      <th>lag1</th>\n      <th>lag_diff</th>\n    </tr>\n  </thead>\n  <tbody>\n    <tr>\n      <th>count</th>\n      <td>101248.000000</td>\n      <td>1.012480e+05</td>\n      <td>101248.000000</td>\n      <td>101248.000000</td>\n      <td>101248.000000</td>\n      <td>101248.000000</td>\n      <td>101247.000000</td>\n      <td>101244.000000</td>\n      <td>101244.000000</td>\n      <td>101244.000000</td>\n      <td>101244.000000</td>\n      <td>101247.000000</td>\n      <td>101247.000000</td>\n    </tr>\n    <tr>\n      <th>mean</th>\n      <td>74.429675</td>\n      <td>-7.671346e-15</td>\n      <td>1.383712</td>\n      <td>-0.076510</td>\n      <td>1.382354</td>\n      <td>0.792312</td>\n      <td>-0.000019</td>\n      <td>74.429523</td>\n      <td>0.302145</td>\n      <td>0.161220</td>\n      <td>-0.000014</td>\n      <td>74.429648</td>\n      <td>-0.000019</td>\n    </tr>\n    <tr>\n      <th>std</th>\n      <td>1.746424</td>\n      <td>1.746424e+00</td>\n      <td>1.065513</td>\n      <td>1.746424</td>\n      <td>1.070014</td>\n      <td>0.610111</td>\n      <td>0.518211</td>\n      <td>1.704497</td>\n      <td>0.298246</td>\n      <td>0.141634</td>\n      <td>0.184570</td>\n      <td>1.746411</td>\n      <td>0.518211</td>\n    </tr>\n    <tr>\n      <th>min</th>\n      <td>69.189130</td>\n      <td>-5.240545e+00</td>\n      <td>0.000028</td>\n      <td>-5.317055</td>\n      <td>0.000021</td>\n      <td>0.000016</td>\n      <td>-10.129916</td>\n      <td>69.273186</td>\n      <td>0.003470</td>\n      <td>0.000358</td>\n      <td>-2.608360</td>\n      <td>69.189130</td>\n      <td>-10.129916</td>\n    </tr>\n    <tr>\n      <th>25%</th>\n      <td>73.310726</td>\n      <td>-1.118950e+00</td>\n      <td>0.545664</td>\n      <td>-1.195460</td>\n      <td>0.541772</td>\n      <td>0.312446</td>\n      <td>-0.126814</td>\n      <td>73.337939</td>\n      <td>0.160194</td>\n      <td>0.090217</td>\n      <td>-0.106246</td>\n      <td>73.310711</td>\n      <td>-0.126814</td>\n    </tr>\n    <tr>\n      <th>50%</th>\n      <td>74.506185</td>\n      <td>7.651020e-02</td>\n      <td>1.155525</td>\n      <td>0.000000</td>\n      <td>1.153062</td>\n      <td>0.661652</td>\n      <td>0.062412</td>\n      <td>74.517033</td>\n      <td>0.216907</td>\n      <td>0.129603</td>\n      <td>0.033477</td>\n      <td>74.506165</td>\n      <td>0.062412</td>\n    </tr>\n    <tr>\n      <th>75%</th>\n      <td>75.622918</td>\n      <td>1.193243e+00</td>\n      <td>1.968425</td>\n      <td>1.116733</td>\n      <td>1.961146</td>\n      <td>1.127117</td>\n      <td>0.146634</td>\n      <td>75.604612</td>\n      <td>0.361194</td>\n      <td>0.189434</td>\n      <td>0.113558</td>\n      <td>75.622902</td>\n      <td>0.146634</td>\n    </tr>\n    <tr>\n      <th>max</th>\n      <td>79.470253</td>\n      <td>5.040578e+00</td>\n      <td>5.240545</td>\n      <td>4.964067</td>\n      <td>5.317055</td>\n      <td>3.000728</td>\n      <td>8.417102</td>\n      <td>79.401439</td>\n      <td>5.022090</td>\n      <td>4.379968</td>\n      <td>2.781938</td>\n      <td>79.470253</td>\n      <td>8.417102</td>\n    </tr>\n  </tbody>\n</table>\n</div>"
          },
          "metadata": {}
        }
      ],
      "execution_count": 16
    },
    {
      "cell_type": "code",
      "source": "retriever.save_to_csv(df, \"cleaned df with FE, TTF.csv\")",
      "metadata": {
        "trusted": true
      },
      "outputs": [
        {
          "name": "stdout",
          "text": "Saved to cleaned df with FE, TTF.csv\n",
          "output_type": "stream"
        }
      ],
      "execution_count": 17
    },
    {
      "cell_type": "code",
      "source": "ttf_modeler = EstTTF(df, high_alarm=86, low_alarm=65.8)",
      "metadata": {
        "trusted": true
      },
      "outputs": [],
      "execution_count": 18
    },
    {
      "cell_type": "code",
      "source": "ttf_modeler.estimate_ttf()",
      "metadata": {
        "trusted": true
      },
      "outputs": [
        {
          "execution_count": 19,
          "output_type": "execute_result",
          "data": {
            "text/plain": "                         value  deviation_from_mean  abs_deviation  \\\nTimestamp                                                            \n2024-07-31 17:06:00  79.193684             4.764008       4.764008   \n2024-07-31 17:07:00  79.128995             4.699320       4.699320   \n2024-07-31 17:09:00  78.960214             4.530539       4.530539   \n2024-07-31 17:11:00  78.808014             4.378339       4.378339   \n2024-07-31 17:12:00  78.723471             4.293795       4.293795   \n...                        ...                  ...            ...   \n2025-06-02 08:27:00  77.699655             3.269980       3.269980   \n2025-06-02 08:44:00  78.399395             3.969720       3.969720   \n2025-06-02 08:51:00  77.588980             3.159305       3.159305   \n2025-06-02 08:52:00  77.425946             2.996271       2.996271   \n2025-06-02 08:54:00  77.223390             2.793715       2.793715   \n\n                     deviation_mad  abs_dev_mad  sigma_level     slope  \\\nTimestamp                                                                \n2024-07-31 17:06:00       4.687498     4.687498     2.727864       NaN   \n2024-07-31 17:07:00       4.622810     4.622810     2.690824 -0.064689   \n2024-07-31 17:09:00       4.454029     4.454029     2.594180 -0.168781   \n2024-07-31 17:11:00       4.301829     4.301829     2.507030 -0.152200   \n2024-07-31 17:12:00       4.217285     4.217285     2.458621 -0.084543   \n...                            ...          ...          ...       ...   \n2025-06-02 08:27:00       3.193470     3.193470     1.872386  0.094541   \n2025-06-02 08:44:00       3.893210     3.893210     2.273056  0.699740   \n2025-06-02 08:51:00       3.082794     3.082794     1.809013 -0.810415   \n2025-06-02 08:52:00       2.919761     2.919761     1.715660 -0.163034   \n2025-06-02 08:54:00       2.717205     2.717205     1.599677 -0.202556   \n\n                     rolling_mean_5  rolling_std_5  rolling_mad_5  \\\nTimestamp                                                           \n2024-07-31 17:06:00             NaN            NaN            NaN   \n2024-07-31 17:07:00             NaN            NaN            NaN   \n2024-07-31 17:09:00             NaN            NaN            NaN   \n2024-07-31 17:11:00             NaN            NaN            NaN   \n2024-07-31 17:12:00       78.962875       0.201353       0.168781   \n...                             ...            ...            ...   \n2025-06-02 08:27:00       77.558668       0.114702       0.099829   \n2025-06-02 08:44:00       77.718582       0.396829       0.123521   \n2025-06-02 08:51:00       77.754947       0.368473       0.094541   \n2025-06-02 08:52:00       77.743818       0.379469       0.094541   \n2025-06-02 08:54:00       77.667473       0.446781       0.163034   \n\n                     rolling_slope_5       lag1  lag_diff   status  \\\nTimestamp                                                            \n2024-07-31 17:06:00              NaN        NaN       NaN  Anomaly   \n2024-07-31 17:07:00              NaN  79.193684 -0.064689  Anomaly   \n2024-07-31 17:09:00              NaN  79.128995 -0.168781  Anomaly   \n2024-07-31 17:11:00              NaN  78.960214 -0.152200  Anomaly   \n2024-07-31 17:12:00        -0.126141  78.808014 -0.084543  Anomaly   \n...                              ...        ...       ...      ...   \n2025-06-02 08:27:00         0.039762  77.605114  0.094541   Normal   \n2025-06-02 08:44:00         0.220255  77.699655  0.699740  Anomaly   \n2025-06-02 08:51:00         0.100906  78.399395 -0.810415   Normal   \n2025-06-02 08:52:00        -0.046901  77.588980 -0.163034   Normal   \n2025-06-02 08:54:00        -0.192598  77.425946 -0.202556   Normal   \n\n                    Est_TTF_Hours  \nTimestamp                          \n2024-07-31 17:06:00          None  \n2024-07-31 17:07:00          None  \n2024-07-31 17:09:00          None  \n2024-07-31 17:11:00          None  \n2024-07-31 17:12:00          0.03  \n...                           ...  \n2025-06-02 08:27:00          None  \n2025-06-02 08:44:00          0.01  \n2025-06-02 08:51:00          None  \n2025-06-02 08:52:00          None  \n2025-06-02 08:54:00          None  \n\n[101248 rows x 15 columns]",
            "text/html": "<div>\n<style scoped>\n    .dataframe tbody tr th:only-of-type {\n        vertical-align: middle;\n    }\n\n    .dataframe tbody tr th {\n        vertical-align: top;\n    }\n\n    .dataframe thead th {\n        text-align: right;\n    }\n</style>\n<table border=\"1\" class=\"dataframe\">\n  <thead>\n    <tr style=\"text-align: right;\">\n      <th></th>\n      <th>value</th>\n      <th>deviation_from_mean</th>\n      <th>abs_deviation</th>\n      <th>deviation_mad</th>\n      <th>abs_dev_mad</th>\n      <th>sigma_level</th>\n      <th>slope</th>\n      <th>rolling_mean_5</th>\n      <th>rolling_std_5</th>\n      <th>rolling_mad_5</th>\n      <th>rolling_slope_5</th>\n      <th>lag1</th>\n      <th>lag_diff</th>\n      <th>status</th>\n      <th>Est_TTF_Hours</th>\n    </tr>\n    <tr>\n      <th>Timestamp</th>\n      <th></th>\n      <th></th>\n      <th></th>\n      <th></th>\n      <th></th>\n      <th></th>\n      <th></th>\n      <th></th>\n      <th></th>\n      <th></th>\n      <th></th>\n      <th></th>\n      <th></th>\n      <th></th>\n      <th></th>\n    </tr>\n  </thead>\n  <tbody>\n    <tr>\n      <th>2024-07-31 17:06:00</th>\n      <td>79.193684</td>\n      <td>4.764008</td>\n      <td>4.764008</td>\n      <td>4.687498</td>\n      <td>4.687498</td>\n      <td>2.727864</td>\n      <td>NaN</td>\n      <td>NaN</td>\n      <td>NaN</td>\n      <td>NaN</td>\n      <td>NaN</td>\n      <td>NaN</td>\n      <td>NaN</td>\n      <td>Anomaly</td>\n      <td>None</td>\n    </tr>\n    <tr>\n      <th>2024-07-31 17:07:00</th>\n      <td>79.128995</td>\n      <td>4.699320</td>\n      <td>4.699320</td>\n      <td>4.622810</td>\n      <td>4.622810</td>\n      <td>2.690824</td>\n      <td>-0.064689</td>\n      <td>NaN</td>\n      <td>NaN</td>\n      <td>NaN</td>\n      <td>NaN</td>\n      <td>79.193684</td>\n      <td>-0.064689</td>\n      <td>Anomaly</td>\n      <td>None</td>\n    </tr>\n    <tr>\n      <th>2024-07-31 17:09:00</th>\n      <td>78.960214</td>\n      <td>4.530539</td>\n      <td>4.530539</td>\n      <td>4.454029</td>\n      <td>4.454029</td>\n      <td>2.594180</td>\n      <td>-0.168781</td>\n      <td>NaN</td>\n      <td>NaN</td>\n      <td>NaN</td>\n      <td>NaN</td>\n      <td>79.128995</td>\n      <td>-0.168781</td>\n      <td>Anomaly</td>\n      <td>None</td>\n    </tr>\n    <tr>\n      <th>2024-07-31 17:11:00</th>\n      <td>78.808014</td>\n      <td>4.378339</td>\n      <td>4.378339</td>\n      <td>4.301829</td>\n      <td>4.301829</td>\n      <td>2.507030</td>\n      <td>-0.152200</td>\n      <td>NaN</td>\n      <td>NaN</td>\n      <td>NaN</td>\n      <td>NaN</td>\n      <td>78.960214</td>\n      <td>-0.152200</td>\n      <td>Anomaly</td>\n      <td>None</td>\n    </tr>\n    <tr>\n      <th>2024-07-31 17:12:00</th>\n      <td>78.723471</td>\n      <td>4.293795</td>\n      <td>4.293795</td>\n      <td>4.217285</td>\n      <td>4.217285</td>\n      <td>2.458621</td>\n      <td>-0.084543</td>\n      <td>78.962875</td>\n      <td>0.201353</td>\n      <td>0.168781</td>\n      <td>-0.126141</td>\n      <td>78.808014</td>\n      <td>-0.084543</td>\n      <td>Anomaly</td>\n      <td>0.03</td>\n    </tr>\n    <tr>\n      <th>...</th>\n      <td>...</td>\n      <td>...</td>\n      <td>...</td>\n      <td>...</td>\n      <td>...</td>\n      <td>...</td>\n      <td>...</td>\n      <td>...</td>\n      <td>...</td>\n      <td>...</td>\n      <td>...</td>\n      <td>...</td>\n      <td>...</td>\n      <td>...</td>\n      <td>...</td>\n    </tr>\n    <tr>\n      <th>2025-06-02 08:27:00</th>\n      <td>77.699655</td>\n      <td>3.269980</td>\n      <td>3.269980</td>\n      <td>3.193470</td>\n      <td>3.193470</td>\n      <td>1.872386</td>\n      <td>0.094541</td>\n      <td>77.558668</td>\n      <td>0.114702</td>\n      <td>0.099829</td>\n      <td>0.039762</td>\n      <td>77.605114</td>\n      <td>0.094541</td>\n      <td>Normal</td>\n      <td>None</td>\n    </tr>\n    <tr>\n      <th>2025-06-02 08:44:00</th>\n      <td>78.399395</td>\n      <td>3.969720</td>\n      <td>3.969720</td>\n      <td>3.893210</td>\n      <td>3.893210</td>\n      <td>2.273056</td>\n      <td>0.699740</td>\n      <td>77.718582</td>\n      <td>0.396829</td>\n      <td>0.123521</td>\n      <td>0.220255</td>\n      <td>77.699655</td>\n      <td>0.699740</td>\n      <td>Anomaly</td>\n      <td>0.01</td>\n    </tr>\n    <tr>\n      <th>2025-06-02 08:51:00</th>\n      <td>77.588980</td>\n      <td>3.159305</td>\n      <td>3.159305</td>\n      <td>3.082794</td>\n      <td>3.082794</td>\n      <td>1.809013</td>\n      <td>-0.810415</td>\n      <td>77.754947</td>\n      <td>0.368473</td>\n      <td>0.094541</td>\n      <td>0.100906</td>\n      <td>78.399395</td>\n      <td>-0.810415</td>\n      <td>Normal</td>\n      <td>None</td>\n    </tr>\n    <tr>\n      <th>2025-06-02 08:52:00</th>\n      <td>77.425946</td>\n      <td>2.996271</td>\n      <td>2.996271</td>\n      <td>2.919761</td>\n      <td>2.919761</td>\n      <td>1.715660</td>\n      <td>-0.163034</td>\n      <td>77.743818</td>\n      <td>0.379469</td>\n      <td>0.094541</td>\n      <td>-0.046901</td>\n      <td>77.588980</td>\n      <td>-0.163034</td>\n      <td>Normal</td>\n      <td>None</td>\n    </tr>\n    <tr>\n      <th>2025-06-02 08:54:00</th>\n      <td>77.223390</td>\n      <td>2.793715</td>\n      <td>2.793715</td>\n      <td>2.717205</td>\n      <td>2.717205</td>\n      <td>1.599677</td>\n      <td>-0.202556</td>\n      <td>77.667473</td>\n      <td>0.446781</td>\n      <td>0.163034</td>\n      <td>-0.192598</td>\n      <td>77.425946</td>\n      <td>-0.202556</td>\n      <td>Normal</td>\n      <td>None</td>\n    </tr>\n  </tbody>\n</table>\n<p>101248 rows × 15 columns</p>\n</div>"
          },
          "metadata": {}
        }
      ],
      "execution_count": 19
    },
    {
      "cell_type": "code",
      "source": "retriever.save_to_csv(ttf_modeler.df, \"dataset with TTF.csv\")",
      "metadata": {
        "trusted": true
      },
      "outputs": [
        {
          "name": "stdout",
          "text": "Saved to dataset with TTF.csv\n",
          "output_type": "stream"
        }
      ],
      "execution_count": 21
    },
    {
      "cell_type": "code",
      "source": "",
      "metadata": {
        "trusted": true
      },
      "outputs": [],
      "execution_count": null
    },
    {
      "cell_type": "code",
      "source": "",
      "metadata": {
        "trusted": true
      },
      "outputs": [],
      "execution_count": null
    }
  ]
}