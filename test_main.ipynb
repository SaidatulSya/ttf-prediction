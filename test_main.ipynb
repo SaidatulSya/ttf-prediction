{
  "metadata": {
    "kernelspec": {
      "name": "python",
      "display_name": "Python (Pyodide)",
      "language": "python"
    },
    "language_info": {
      "codemirror_mode": {
        "name": "python",
        "version": 3
      },
      "file_extension": ".py",
      "mimetype": "text/x-python",
      "name": "python",
      "nbconvert_exporter": "python",
      "pygments_lexer": "ipython3",
      "version": "3.8"
    }
  },
  "nbformat_minor": 4,
  "nbformat": 4,
  "cells": [
    {
      "cell_type": "code",
      "source": "from cognite.client import CogniteClient\nfrom retrieve_data import RetrieveData\nimport numpy as np\nimport matplotlib as plt\nimport pandas as pd\n\n# Instantiate Cognite SDK client:\nclient = CogniteClient()",
      "metadata": {
        "trusted": true
      },
      "outputs": [],
      "execution_count": 1
    },
    {
      "cell_type": "code",
      "source": "#1. Initialize a DataRetriever Class.\nretriever = RetrieveData(client)",
      "metadata": {
        "trusted": true
      },
      "outputs": [],
      "execution_count": 2
    },
    {
      "cell_type": "code",
      "source": "#2. Assign the desired pi tag to a variable\npitag1 = \"KASAWARI_PI_PC.SKA.KSCPP.DCS.SW.22PIA-0028.PV\"\nstart_time = \"365d-ago\"\nend_time = \"now\"\nagg = \"interpolation\"\ninterval = \"10m\"\n\n\n",
      "metadata": {
        "trusted": true
      },
      "outputs": [],
      "execution_count": 3
    },
    {
      "cell_type": "code",
      "source": "#3. Call out retrieve_data method from the initialized class\ndf1 = retriever.retrieve_data(ex_id=pitag1, start_time_str=start_time, end_time_str=end_time, agg=agg, interval=interval)",
      "metadata": {
        "trusted": true
      },
      "outputs": [],
      "execution_count": 4
    },
    {
      "cell_type": "code",
      "source": "#4. display top 5 of the dataframe and info\ndf1.head()",
      "metadata": {
        "trusted": true
      },
      "outputs": [
        {
          "execution_count": 5,
          "output_type": "execute_result",
          "data": {
            "text/plain": "            Timestamp      value\n0 2024-07-31 17:09:00  78.960214\n1 2024-07-31 17:19:00  78.150770\n2 2024-07-31 17:29:00  77.485237\n3 2024-07-31 17:39:00  77.185356\n4 2024-07-31 17:49:00  76.919119",
            "text/html": "<div>\n<style scoped>\n    .dataframe tbody tr th:only-of-type {\n        vertical-align: middle;\n    }\n\n    .dataframe tbody tr th {\n        vertical-align: top;\n    }\n\n    .dataframe thead th {\n        text-align: right;\n    }\n</style>\n<table border=\"1\" class=\"dataframe\">\n  <thead>\n    <tr style=\"text-align: right;\">\n      <th></th>\n      <th>Timestamp</th>\n      <th>value</th>\n    </tr>\n  </thead>\n  <tbody>\n    <tr>\n      <th>0</th>\n      <td>2024-07-31 17:09:00</td>\n      <td>78.960214</td>\n    </tr>\n    <tr>\n      <th>1</th>\n      <td>2024-07-31 17:19:00</td>\n      <td>78.150770</td>\n    </tr>\n    <tr>\n      <th>2</th>\n      <td>2024-07-31 17:29:00</td>\n      <td>77.485237</td>\n    </tr>\n    <tr>\n      <th>3</th>\n      <td>2024-07-31 17:39:00</td>\n      <td>77.185356</td>\n    </tr>\n    <tr>\n      <th>4</th>\n      <td>2024-07-31 17:49:00</td>\n      <td>76.919119</td>\n    </tr>\n  </tbody>\n</table>\n</div>"
          },
          "metadata": {}
        }
      ],
      "execution_count": 5
    },
    {
      "cell_type": "code",
      "source": "df1.describe()",
      "metadata": {
        "trusted": true
      },
      "outputs": [
        {
          "execution_count": 6,
          "output_type": "execute_result",
          "data": {
            "text/plain": "                           Timestamp         value\ncount                          35885  35885.000000\nmean   2024-12-10 12:08:24.235752960     67.776147\nmin              2024-07-31 17:09:00     -0.664977\n25%              2024-10-02 21:19:00     72.932143\n50%              2024-12-04 12:49:00     74.414554\n75%              2025-02-15 08:09:00     75.580904\nmax              2025-05-27 01:49:00     86.887728\nstd                              NaN     21.413453",
            "text/html": "<div>\n<style scoped>\n    .dataframe tbody tr th:only-of-type {\n        vertical-align: middle;\n    }\n\n    .dataframe tbody tr th {\n        vertical-align: top;\n    }\n\n    .dataframe thead th {\n        text-align: right;\n    }\n</style>\n<table border=\"1\" class=\"dataframe\">\n  <thead>\n    <tr style=\"text-align: right;\">\n      <th></th>\n      <th>Timestamp</th>\n      <th>value</th>\n    </tr>\n  </thead>\n  <tbody>\n    <tr>\n      <th>count</th>\n      <td>35885</td>\n      <td>35885.000000</td>\n    </tr>\n    <tr>\n      <th>mean</th>\n      <td>2024-12-10 12:08:24.235752960</td>\n      <td>67.776147</td>\n    </tr>\n    <tr>\n      <th>min</th>\n      <td>2024-07-31 17:09:00</td>\n      <td>-0.664977</td>\n    </tr>\n    <tr>\n      <th>25%</th>\n      <td>2024-10-02 21:19:00</td>\n      <td>72.932143</td>\n    </tr>\n    <tr>\n      <th>50%</th>\n      <td>2024-12-04 12:49:00</td>\n      <td>74.414554</td>\n    </tr>\n    <tr>\n      <th>75%</th>\n      <td>2025-02-15 08:09:00</td>\n      <td>75.580904</td>\n    </tr>\n    <tr>\n      <th>max</th>\n      <td>2025-05-27 01:49:00</td>\n      <td>86.887728</td>\n    </tr>\n    <tr>\n      <th>std</th>\n      <td>NaN</td>\n      <td>21.413453</td>\n    </tr>\n  </tbody>\n</table>\n</div>"
          },
          "metadata": {}
        }
      ],
      "execution_count": 6
    },
    {
      "cell_type": "code",
      "source": "#function to label anomaly and alarms\ndef assign_status(value, mean, std):\n    try:\n        if pd.isna(value):\n            return \"Bad Data\"\n        elif value < 65.8:\n            return \"Low Alarm\"\n        elif value > 86:\n            return \"High Alarm\"\n        elif abs(value-mean) > std:\n            return \"Anomaly\"\n        else:\n            return \"Normal\"\n    except:\n        return \"Bad Data\"\n",
      "metadata": {
        "trusted": true
      },
      "outputs": [],
      "execution_count": 7
    },
    {
      "cell_type": "code",
      "source": "# Function to label TTF from anomaly to next alarm\ndef calculate_ttf(df, time_col=\"Timestamp\"):\n    df[\"TTF\"] = None\n    \n    # Create a new DataFrame that filters only alarm rows (Low/High Alarm)\n    alarm_rows = df[df[\"status\"].isin([\"Low Alarm\", \"High Alarm\"])].reset_index(drop=True)\n\n    # Calculate TTF for \"Anomaly\" rows that precede an Alarm\n    for i in df.index:\n        if df.at[i, \"status\"] == \"Anomaly\":\n            current_time = df.at[i, time_col]\n            future_alarm = alarm_rows[alarm_rows[time_col] > current_time]\n            if not future_alarm.empty:\n                next_alarm_time = future_alarm.iloc[0][time_col]\n                ttf_hours = (next_alarm_time - current_time).total_seconds() / 3600\n                df.at[i, \"TTF\"] = round(ttf_hours, 2)\n    \n    return df",
      "metadata": {
        "trusted": true
      },
      "outputs": [],
      "execution_count": 8
    },
    {
      "cell_type": "code",
      "source": "#Function to label status pre alarm\ndef label_status_pre_alarm(df, value_col=\"value\", time_col=\"Timestamp\", pre_alarm_window=3):\n    df = df.copy()\n    df[\"status\"] = \"Normal\"\n\n    # Find indexes of alarm rows\n    alarm_indexes = df[df[\"value\"] < 65.8].index.tolist() + df[df[\"value\"] > 86].index.tolist()\n\n    for idx in alarm_indexes:\n        df.at[idx, \"status\"] = \"Low Alarm\" if df.at[idx, value_col] < 65.8 else \"High Alarm\"\n\n        # Flag N rows before the alarm as Anomaly\n        for i in range(1, pre_alarm_window + 1):\n            if idx - i >= 0 and df.at[idx - i, \"status\"] == \"Normal\":\n                df.at[idx - i, \"status\"] = \"Anomaly\"\n\n    return df\n",
      "metadata": {
        "trusted": true
      },
      "outputs": [],
      "execution_count": 9
    },
    {
      "cell_type": "code",
      "source": "# mean = df1[\"value\"].mean()\n# std = df1[\"value\"].std()\ndf1[\"Timestamp\"] = pd.to_datetime(df1[\"Timestamp\"])",
      "metadata": {
        "trusted": true
      },
      "outputs": [],
      "execution_count": 10
    },
    {
      "cell_type": "code",
      "source": "#Step 1: Assign Status\ndf1 = label_status_pre_alarm(df1, value_col=\"value\", pre_alarm_window=3)",
      "metadata": {
        "trusted": true
      },
      "outputs": [],
      "execution_count": 11
    },
    {
      "cell_type": "code",
      "source": "#Step 2: Caclulate TTF\ndf1 = calculate_ttf(df1)",
      "metadata": {
        "trusted": true
      },
      "outputs": [],
      "execution_count": 12
    },
    {
      "cell_type": "code",
      "source": "df1.info()",
      "metadata": {
        "trusted": true
      },
      "outputs": [
        {
          "name": "stdout",
          "text": "<class 'pandas.core.frame.DataFrame'>\nRangeIndex: 35885 entries, 0 to 35884\nData columns (total 4 columns):\n #   Column     Non-Null Count  Dtype         \n---  ------     --------------  -----         \n 0   Timestamp  35885 non-null  datetime64[ns]\n 1   value      35885 non-null  float64       \n 2   status     35885 non-null  object        \n 3   TTF        76 non-null     object        \ndtypes: datetime64[ns](1), float64(1), object(2)\nmemory usage: 841.1+ KB\n",
          "output_type": "stream"
        }
      ],
      "execution_count": 13
    },
    {
      "cell_type": "code",
      "source": "retriever.save_to_csv(df1)",
      "metadata": {
        "trusted": true
      },
      "outputs": [
        {
          "name": "stdout",
          "text": "Saved to PV.csv\n",
          "output_type": "stream"
        }
      ],
      "execution_count": 14
    },
    {
      "cell_type": "code",
      "source": "import pandas as pd\nfrom sklearn.linear_model import LinearRegression\nfrom sklearn.model_selection import train_test_split\nfrom sklearn.metrics import mean_absolute_error, r2_score\n\n# STEP 1: Prepare training data\n# Keep only rows where TTF is available (i.e., anomaly rows before alarm)\ntrain_df = df1[df1[\"TTF\"].notna()].copy()\n\n# STEP 2: Define feature(s) and target\nX = train_df[[\"value\"]]  # You can add more features later\ny = train_df[\"TTF\"]\n\n# STEP 3: Train-test split\nX_train, X_test, y_train, y_test = train_test_split(X, y, test_size=0.2, random_state=42)\n\n# STEP 4: Train the Linear Regression model\nmodel = LinearRegression()\nmodel.fit(X_train, y_train)\n\n# STEP 5: Evaluate the model\ny_pred = model.predict(X_test)\n\nprint(\"📊 Model Evaluation\")\nprint(\"----------------------------\")\nprint(\"Mean Absolute Error:\", round(mean_absolute_error(y_test, y_pred), 2))\nprint(\"R² Score:\", round(r2_score(y_test, y_pred), 2))\n\n# STEP 6: Predict TTF for a new process value\nnew_value = [[75.0]]  # Replace with current or test value\npredicted_ttf = model.predict(new_value)\nprint(f\"\\n🕒 Predicted TTF for value {new_value[0][0]}: {predicted_ttf[0]:.2f} hours\")\n",
      "metadata": {
        "trusted": true
      },
      "outputs": [
        {
          "name": "stdout",
          "text": "📊 Model Evaluation\n----------------------------\nMean Absolute Error: 2.08\nR² Score: -465.16\n",
          "output_type": "stream"
        },
        {
          "name": "stderr",
          "text": "/lib/python3.12/site-packages/sklearn/base.py:493: UserWarning: X does not have valid feature names, but LinearRegression was fitted with feature names\n  warnings.warn(\n",
          "output_type": "stream"
        },
        {
          "name": "stdout",
          "text": "\n🕒 Predicted TTF for value 75.0: 3.07 hours\n",
          "output_type": "stream"
        }
      ],
      "execution_count": 15
    },
    {
      "cell_type": "code",
      "source": "",
      "metadata": {
        "trusted": true
      },
      "outputs": [],
      "execution_count": null
    }
  ]
}